{
 "cells": [
  {
   "cell_type": "code",
   "execution_count": 69,
   "id": "c0b19716-fba8-4b49-8d8d-e64331a777fc",
   "metadata": {},
   "outputs": [
    {
     "data": {
      "text/plain": [
       "'\\nESG stands for Environmental, Social, and Governance:\\n- Environmental: Focuses on a company’s impact on the planet (e.g., emissions, waste).\\n- Social: Includes employee treatment, diversity, and human rights.\\n- Governance: Refers to how a company is run (e.g., board structure, audits, ethics).\\n\\nThis project aims to analyze ESG scores of S&P 500 companies and categorize them into risk levels.\\n'"
      ]
     },
     "execution_count": 69,
     "metadata": {},
     "output_type": "execute_result"
    }
   ],
   "source": [
    "#Introduction to ESG\n",
    "\"\"\"\n",
    "ESG stands for Environmental, Social, and Governance:\n",
    "- Environmental: Focuses on a company’s impact on the planet (e.g., emissions, waste).\n",
    "- Social: Includes employee treatment, diversity, and human rights.\n",
    "- Governance: Refers to how a company is run (e.g., board structure, audits, ethics).\n",
    "\n",
    "This project aims to analyze ESG scores of S&P 500 companies and categorize them into risk levels.\n",
    "\"\"\""
   ]
  },
  {
   "cell_type": "code",
   "execution_count": 41,
   "id": "97b4ff2b-6c0b-461b-92bb-95d58c62af4d",
   "metadata": {},
   "outputs": [],
   "source": [
    "import pandas as pd\n",
    "import matplotlib.pyplot as plt\n",
    "import seaborn as sns\n",
    "import numpy as np\n",
    "\n",
    "import warnings\n",
    "warnings.filterwarnings(\"ignore\")\n",
    "\n"
   ]
  },
  {
   "cell_type": "code",
   "execution_count": 71,
   "id": "23367f27-e4bb-4382-9318-ea7aef33f758",
   "metadata": {},
   "outputs": [],
   "source": [
    "# Loading the dataset\n",
    "esg_df = pd.read_csv('ESG_Sample_Data.csv')\n"
   ]
  },
  {
   "cell_type": "code",
   "execution_count": 73,
   "id": "90e5daa5-e179-4500-9dab-ec5928d66ffa",
   "metadata": {},
   "outputs": [
    {
     "name": "stdout",
     "output_type": "stream",
     "text": [
      "\n",
      "Dataset Info:\n",
      "<class 'pandas.core.frame.DataFrame'>\n",
      "RangeIndex: 20 entries, 0 to 19\n",
      "Data columns (total 4 columns):\n",
      " #   Column   Non-Null Count  Dtype \n",
      "---  ------   --------------  ----- \n",
      " 0   Company  20 non-null     object\n",
      " 1   E_Score  20 non-null     int64 \n",
      " 2   S_Score  20 non-null     int64 \n",
      " 3   G_Score  20 non-null     int64 \n",
      "dtypes: int64(3), object(1)\n",
      "memory usage: 772.0+ bytes\n"
     ]
    }
   ],
   "source": [
    "# Display basic information\n",
    "print('\\nDataset Info:')\n",
    "esg_df.info()\n"
   ]
  },
  {
   "cell_type": "code",
   "execution_count": 75,
   "id": "5239a826-a991-4441-a810-1011d1d1c49d",
   "metadata": {},
   "outputs": [
    {
     "name": "stdout",
     "output_type": "stream",
     "text": [
      "\n",
      "Dataset Preview:\n"
     ]
    },
    {
     "data": {
      "text/html": [
       "<div>\n",
       "<style scoped>\n",
       "    .dataframe tbody tr th:only-of-type {\n",
       "        vertical-align: middle;\n",
       "    }\n",
       "\n",
       "    .dataframe tbody tr th {\n",
       "        vertical-align: top;\n",
       "    }\n",
       "\n",
       "    .dataframe thead th {\n",
       "        text-align: right;\n",
       "    }\n",
       "</style>\n",
       "<table border=\"1\" class=\"dataframe\">\n",
       "  <thead>\n",
       "    <tr style=\"text-align: right;\">\n",
       "      <th></th>\n",
       "      <th>Company</th>\n",
       "      <th>E_Score</th>\n",
       "      <th>S_Score</th>\n",
       "      <th>G_Score</th>\n",
       "    </tr>\n",
       "  </thead>\n",
       "  <tbody>\n",
       "    <tr>\n",
       "      <th>0</th>\n",
       "      <td>Company1</td>\n",
       "      <td>71</td>\n",
       "      <td>77</td>\n",
       "      <td>58</td>\n",
       "    </tr>\n",
       "    <tr>\n",
       "      <th>1</th>\n",
       "      <td>Company2</td>\n",
       "      <td>34</td>\n",
       "      <td>41</td>\n",
       "      <td>37</td>\n",
       "    </tr>\n",
       "    <tr>\n",
       "      <th>2</th>\n",
       "      <td>Company3</td>\n",
       "      <td>91</td>\n",
       "      <td>68</td>\n",
       "      <td>23</td>\n",
       "    </tr>\n",
       "    <tr>\n",
       "      <th>3</th>\n",
       "      <td>Company4</td>\n",
       "      <td>80</td>\n",
       "      <td>78</td>\n",
       "      <td>79</td>\n",
       "    </tr>\n",
       "    <tr>\n",
       "      <th>4</th>\n",
       "      <td>Company5</td>\n",
       "      <td>40</td>\n",
       "      <td>61</td>\n",
       "      <td>33</td>\n",
       "    </tr>\n",
       "  </tbody>\n",
       "</table>\n",
       "</div>"
      ],
      "text/plain": [
       "    Company  E_Score  S_Score  G_Score\n",
       "0  Company1       71       77       58\n",
       "1  Company2       34       41       37\n",
       "2  Company3       91       68       23\n",
       "3  Company4       80       78       79\n",
       "4  Company5       40       61       33"
      ]
     },
     "execution_count": 75,
     "metadata": {},
     "output_type": "execute_result"
    }
   ],
   "source": [
    "# Displaying first few rows\n",
    "print('\\nDataset Preview:')\n",
    "esg_df.head()\n"
   ]
  },
  {
   "cell_type": "code",
   "execution_count": 77,
   "id": "48f82e0b-246a-4e19-9c24-31a57747ddcf",
   "metadata": {},
   "outputs": [
    {
     "name": "stdout",
     "output_type": "stream",
     "text": [
      "\n",
      "Missing Values:\n"
     ]
    },
    {
     "data": {
      "text/plain": [
       "Company    0\n",
       "E_Score    0\n",
       "S_Score    0\n",
       "G_Score    0\n",
       "dtype: int64"
      ]
     },
     "execution_count": 77,
     "metadata": {},
     "output_type": "execute_result"
    }
   ],
   "source": [
    "# Checking for missing values\n",
    "print('\\nMissing Values:')\n",
    "esg_df.isna().sum()"
   ]
  },
  {
   "cell_type": "code",
   "execution_count": 79,
   "id": "8489c3f6-b224-4411-993b-cd05613aa46a",
   "metadata": {},
   "outputs": [
    {
     "name": "stdout",
     "output_type": "stream",
     "text": [
      "\n",
      "Descriptive Statistics:\n"
     ]
    },
    {
     "data": {
      "text/html": [
       "<div>\n",
       "<style scoped>\n",
       "    .dataframe tbody tr th:only-of-type {\n",
       "        vertical-align: middle;\n",
       "    }\n",
       "\n",
       "    .dataframe tbody tr th {\n",
       "        vertical-align: top;\n",
       "    }\n",
       "\n",
       "    .dataframe thead th {\n",
       "        text-align: right;\n",
       "    }\n",
       "</style>\n",
       "<table border=\"1\" class=\"dataframe\">\n",
       "  <thead>\n",
       "    <tr style=\"text-align: right;\">\n",
       "      <th></th>\n",
       "      <th>E_Score</th>\n",
       "      <th>S_Score</th>\n",
       "      <th>G_Score</th>\n",
       "    </tr>\n",
       "  </thead>\n",
       "  <tbody>\n",
       "    <tr>\n",
       "      <th>count</th>\n",
       "      <td>20.000000</td>\n",
       "      <td>20.000000</td>\n",
       "      <td>20.000000</td>\n",
       "    </tr>\n",
       "    <tr>\n",
       "      <th>mean</th>\n",
       "      <td>58.950000</td>\n",
       "      <td>66.150000</td>\n",
       "      <td>51.000000</td>\n",
       "    </tr>\n",
       "    <tr>\n",
       "      <th>std</th>\n",
       "      <td>25.992863</td>\n",
       "      <td>21.943168</td>\n",
       "      <td>25.216953</td>\n",
       "    </tr>\n",
       "    <tr>\n",
       "      <th>min</th>\n",
       "      <td>21.000000</td>\n",
       "      <td>22.000000</td>\n",
       "      <td>21.000000</td>\n",
       "    </tr>\n",
       "    <tr>\n",
       "      <th>25%</th>\n",
       "      <td>40.000000</td>\n",
       "      <td>56.000000</td>\n",
       "      <td>26.500000</td>\n",
       "    </tr>\n",
       "    <tr>\n",
       "      <th>50%</th>\n",
       "      <td>54.500000</td>\n",
       "      <td>72.000000</td>\n",
       "      <td>54.500000</td>\n",
       "    </tr>\n",
       "    <tr>\n",
       "      <th>75%</th>\n",
       "      <td>80.750000</td>\n",
       "      <td>81.000000</td>\n",
       "      <td>69.750000</td>\n",
       "    </tr>\n",
       "    <tr>\n",
       "      <th>max</th>\n",
       "      <td>95.000000</td>\n",
       "      <td>99.000000</td>\n",
       "      <td>97.000000</td>\n",
       "    </tr>\n",
       "  </tbody>\n",
       "</table>\n",
       "</div>"
      ],
      "text/plain": [
       "         E_Score    S_Score    G_Score\n",
       "count  20.000000  20.000000  20.000000\n",
       "mean   58.950000  66.150000  51.000000\n",
       "std    25.992863  21.943168  25.216953\n",
       "min    21.000000  22.000000  21.000000\n",
       "25%    40.000000  56.000000  26.500000\n",
       "50%    54.500000  72.000000  54.500000\n",
       "75%    80.750000  81.000000  69.750000\n",
       "max    95.000000  99.000000  97.000000"
      ]
     },
     "execution_count": 79,
     "metadata": {},
     "output_type": "execute_result"
    }
   ],
   "source": [
    "# Descriptive statistics\n",
    "print('\\nDescriptive Statistics:')\n",
    "esg_df.describe()"
   ]
  },
  {
   "cell_type": "code",
   "execution_count": 53,
   "id": "095a76f3-665f-4b61-9ee0-354fe9525c4c",
   "metadata": {},
   "outputs": [
    {
     "data": {
      "image/png": "[encoded data removed]",
      "text/plain": [
       "<Figure size 1500x500 with 3 Axes>"
      ]
     },
     "metadata": {},
     "output_type": "display_data"
    }
   ],
   "source": [
    "# Distribution of each ESG score\n",
    "plt.figure(figsize=(15, 5))\n",
    "plt.subplot(1, 3, 1)\n",
    "sns.histplot(esg_df['E_Score'], bins=10, kde=True, color='green')\n",
    "plt.title('E Score Distribution')\n",
    "plt.subplot(1, 3, 2)\n",
    "sns.histplot(esg_df['S_Score'], bins=10, kde=True, color='blue')\n",
    "plt.title('S Score Distribution')\n",
    "plt.subplot(1, 3, 3)\n",
    "sns.histplot(esg_df['G_Score'], bins=10, kde=True, color='orange')\n",
    "plt.title('G Score Distribution')\n",
    "plt.show()"
   ]
  },
  {
   "cell_type": "code",
   "execution_count": 55,
   "id": "a85787cf-d83b-4e9f-9123-39681764ee52",
   "metadata": {},
   "outputs": [
    {
     "data": {
      "image/png": "[encoded data removed]",
      "text/plain": [
       "<Figure size 800x600 with 2 Axes>"
      ]
     },
     "metadata": {},
     "output_type": "display_data"
    }
   ],
   "source": [
    "# Correlation Heatmap\n",
    "plt.figure(figsize=(8, 6))\n",
    "sns.heatmap(esg_df[['E_Score', 'S_Score', 'G_Score']].corr(), annot=True, cmap='YlGnBu', linewidths=0.5)\n",
    "plt.title('ESG Score Correlation')\n",
    "plt.show()"
   ]
  },
  {
   "cell_type": "code",
   "execution_count": 57,
   "id": "8f926099-bd89-4b4d-865a-89acd962ae26",
   "metadata": {},
   "outputs": [
    {
     "data": {
      "image/png": "[encoded data removed]",
      "text/plain": [
       "<Figure size 1000x600 with 1 Axes>"
      ]
     },
     "metadata": {},
     "output_type": "display_data"
    }
   ],
   "source": [
    "# Boxplot of ESG Scores\n",
    "plt.figure(figsize=(10, 6))\n",
    "sns.boxplot(data=esg_df[['E_Score', 'S_Score', 'G_Score']])\n",
    "plt.title('ESG Scores Distribution')\n",
    "plt.ylabel('Score')\n",
    "plt.show()"
   ]
  },
  {
   "cell_type": "code",
   "execution_count": 59,
   "id": "5bd5db8d-ab49-451c-8c7e-aeacf4680981",
   "metadata": {},
   "outputs": [],
   "source": [
    "# Average ESG score and rating\n",
    "esg_df['Average_ESG'] = esg_df[['E_Score', 'S_Score', 'G_Score']].mean(axis=1)"
   ]
  },
  {
   "cell_type": "code",
   "execution_count": 61,
   "id": "76024cf0-1853-4af0-b382-05ed0b1760db",
   "metadata": {},
   "outputs": [],
   "source": [
    "# Rating logic\n",
    "def get_esg_rating(score):\n",
    "    if score >= 80:\n",
    "        return 'AAA'\n",
    "    elif score >= 70:\n",
    "        return 'AA'\n",
    "    elif score >= 60:\n",
    "        return 'A'\n",
    "    elif score >= 50:\n",
    "        return 'BBB'\n",
    "    elif score >= 40:\n",
    "        return 'BB'\n",
    "    elif score >= 30:\n",
    "        return 'B'\n",
    "    else:\n",
    "        return 'CCC'\n",
    "\n",
    "esg_df['ESG_Rating'] = esg_df['Average_ESG'].apply(get_esg_rating)\n"
   ]
  },
  {
   "cell_type": "code",
   "execution_count": 63,
   "id": "3c690536-17da-46a7-871f-cfe1ea0a57ab",
   "metadata": {},
   "outputs": [],
   "source": [
    "esg_df['ESG_Rating'] = esg_df['Average_ESG'].apply(get_esg_rating)"
   ]
  },
  {
   "cell_type": "code",
   "execution_count": 65,
   "id": "7eaec3a2-b14b-4bbf-95c7-b68b115d8ee8",
   "metadata": {},
   "outputs": [
    {
     "name": "stdout",
     "output_type": "stream",
     "text": [
      "\n",
      "Final ESG Data with Ratings:\n"
     ]
    },
    {
     "data": {
      "text/html": [
       "<div>\n",
       "<style scoped>\n",
       "    .dataframe tbody tr th:only-of-type {\n",
       "        vertical-align: middle;\n",
       "    }\n",
       "\n",
       "    .dataframe tbody tr th {\n",
       "        vertical-align: top;\n",
       "    }\n",
       "\n",
       "    .dataframe thead th {\n",
       "        text-align: right;\n",
       "    }\n",
       "</style>\n",
       "<table border=\"1\" class=\"dataframe\">\n",
       "  <thead>\n",
       "    <tr style=\"text-align: right;\">\n",
       "      <th></th>\n",
       "      <th>Company</th>\n",
       "      <th>E_Score</th>\n",
       "      <th>S_Score</th>\n",
       "      <th>G_Score</th>\n",
       "      <th>Average_ESG</th>\n",
       "      <th>ESG_Rating</th>\n",
       "    </tr>\n",
       "  </thead>\n",
       "  <tbody>\n",
       "    <tr>\n",
       "      <th>0</th>\n",
       "      <td>Company1</td>\n",
       "      <td>71</td>\n",
       "      <td>77</td>\n",
       "      <td>58</td>\n",
       "      <td>68.666667</td>\n",
       "      <td>A</td>\n",
       "    </tr>\n",
       "    <tr>\n",
       "      <th>1</th>\n",
       "      <td>Company2</td>\n",
       "      <td>34</td>\n",
       "      <td>41</td>\n",
       "      <td>37</td>\n",
       "      <td>37.333333</td>\n",
       "      <td>B</td>\n",
       "    </tr>\n",
       "    <tr>\n",
       "      <th>2</th>\n",
       "      <td>Company3</td>\n",
       "      <td>91</td>\n",
       "      <td>68</td>\n",
       "      <td>23</td>\n",
       "      <td>60.666667</td>\n",
       "      <td>A</td>\n",
       "    </tr>\n",
       "    <tr>\n",
       "      <th>3</th>\n",
       "      <td>Company4</td>\n",
       "      <td>80</td>\n",
       "      <td>78</td>\n",
       "      <td>79</td>\n",
       "      <td>79.000000</td>\n",
       "      <td>AA</td>\n",
       "    </tr>\n",
       "    <tr>\n",
       "      <th>4</th>\n",
       "      <td>Company5</td>\n",
       "      <td>40</td>\n",
       "      <td>61</td>\n",
       "      <td>33</td>\n",
       "      <td>44.666667</td>\n",
       "      <td>BB</td>\n",
       "    </tr>\n",
       "    <tr>\n",
       "      <th>5</th>\n",
       "      <td>Company6</td>\n",
       "      <td>94</td>\n",
       "      <td>79</td>\n",
       "      <td>28</td>\n",
       "      <td>67.000000</td>\n",
       "      <td>A</td>\n",
       "    </tr>\n",
       "    <tr>\n",
       "      <th>6</th>\n",
       "      <td>Company7</td>\n",
       "      <td>94</td>\n",
       "      <td>99</td>\n",
       "      <td>72</td>\n",
       "      <td>88.333333</td>\n",
       "      <td>AAA</td>\n",
       "    </tr>\n",
       "    <tr>\n",
       "      <th>7</th>\n",
       "      <td>Company8</td>\n",
       "      <td>43</td>\n",
       "      <td>34</td>\n",
       "      <td>21</td>\n",
       "      <td>32.666667</td>\n",
       "      <td>B</td>\n",
       "    </tr>\n",
       "    <tr>\n",
       "      <th>8</th>\n",
       "      <td>Company9</td>\n",
       "      <td>22</td>\n",
       "      <td>81</td>\n",
       "      <td>79</td>\n",
       "      <td>60.666667</td>\n",
       "      <td>A</td>\n",
       "    </tr>\n",
       "    <tr>\n",
       "      <th>9</th>\n",
       "      <td>Company10</td>\n",
       "      <td>41</td>\n",
       "      <td>81</td>\n",
       "      <td>90</td>\n",
       "      <td>70.666667</td>\n",
       "      <td>AA</td>\n",
       "    </tr>\n",
       "    <tr>\n",
       "      <th>10</th>\n",
       "      <td>Company11</td>\n",
       "      <td>72</td>\n",
       "      <td>66</td>\n",
       "      <td>63</td>\n",
       "      <td>67.000000</td>\n",
       "      <td>A</td>\n",
       "    </tr>\n",
       "    <tr>\n",
       "      <th>11</th>\n",
       "      <td>Company12</td>\n",
       "      <td>21</td>\n",
       "      <td>81</td>\n",
       "      <td>27</td>\n",
       "      <td>43.000000</td>\n",
       "      <td>BB</td>\n",
       "    </tr>\n",
       "    <tr>\n",
       "      <th>12</th>\n",
       "      <td>Company13</td>\n",
       "      <td>49</td>\n",
       "      <td>70</td>\n",
       "      <td>66</td>\n",
       "      <td>61.666667</td>\n",
       "      <td>A</td>\n",
       "    </tr>\n",
       "    <tr>\n",
       "      <th>13</th>\n",
       "      <td>Company14</td>\n",
       "      <td>57</td>\n",
       "      <td>74</td>\n",
       "      <td>54</td>\n",
       "      <td>61.666667</td>\n",
       "      <td>A</td>\n",
       "    </tr>\n",
       "    <tr>\n",
       "      <th>14</th>\n",
       "      <td>Company15</td>\n",
       "      <td>21</td>\n",
       "      <td>83</td>\n",
       "      <td>97</td>\n",
       "      <td>67.000000</td>\n",
       "      <td>A</td>\n",
       "    </tr>\n",
       "    <tr>\n",
       "      <th>15</th>\n",
       "      <td>Company16</td>\n",
       "      <td>83</td>\n",
       "      <td>22</td>\n",
       "      <td>55</td>\n",
       "      <td>53.333333</td>\n",
       "      <td>BBB</td>\n",
       "    </tr>\n",
       "    <tr>\n",
       "      <th>16</th>\n",
       "      <td>Company17</td>\n",
       "      <td>79</td>\n",
       "      <td>70</td>\n",
       "      <td>69</td>\n",
       "      <td>72.666667</td>\n",
       "      <td>AA</td>\n",
       "    </tr>\n",
       "    <tr>\n",
       "      <th>17</th>\n",
       "      <td>Company18</td>\n",
       "      <td>40</td>\n",
       "      <td>26</td>\n",
       "      <td>23</td>\n",
       "      <td>29.666667</td>\n",
       "      <td>CCC</td>\n",
       "    </tr>\n",
       "    <tr>\n",
       "      <th>18</th>\n",
       "      <td>Company19</td>\n",
       "      <td>52</td>\n",
       "      <td>40</td>\n",
       "      <td>21</td>\n",
       "      <td>37.666667</td>\n",
       "      <td>B</td>\n",
       "    </tr>\n",
       "    <tr>\n",
       "      <th>19</th>\n",
       "      <td>Company20</td>\n",
       "      <td>95</td>\n",
       "      <td>92</td>\n",
       "      <td>25</td>\n",
       "      <td>70.666667</td>\n",
       "      <td>AA</td>\n",
       "    </tr>\n",
       "  </tbody>\n",
       "</table>\n",
       "</div>"
      ],
      "text/plain": [
       "      Company  E_Score  S_Score  G_Score  Average_ESG ESG_Rating\n",
       "0    Company1       71       77       58    68.666667          A\n",
       "1    Company2       34       41       37    37.333333          B\n",
       "2    Company3       91       68       23    60.666667          A\n",
       "3    Company4       80       78       79    79.000000         AA\n",
       "4    Company5       40       61       33    44.666667         BB\n",
       "5    Company6       94       79       28    67.000000          A\n",
       "6    Company7       94       99       72    88.333333        AAA\n",
       "7    Company8       43       34       21    32.666667          B\n",
       "8    Company9       22       81       79    60.666667          A\n",
       "9   Company10       41       81       90    70.666667         AA\n",
       "10  Company11       72       66       63    67.000000          A\n",
       "11  Company12       21       81       27    43.000000         BB\n",
       "12  Company13       49       70       66    61.666667          A\n",
       "13  Company14       57       74       54    61.666667          A\n",
       "14  Company15       21       83       97    67.000000          A\n",
       "15  Company16       83       22       55    53.333333        BBB\n",
       "16  Company17       79       70       69    72.666667         AA\n",
       "17  Company18       40       26       23    29.666667        CCC\n",
       "18  Company19       52       40       21    37.666667          B\n",
       "19  Company20       95       92       25    70.666667         AA"
      ]
     },
     "execution_count": 65,
     "metadata": {},
     "output_type": "execute_result"
    }
   ],
   "source": [
    "# Print final data with ratings\n",
    "print('\\nFinal ESG Data with Ratings:')\n",
    "esg_df[['Company', 'E_Score', 'S_Score', 'G_Score', 'Average_ESG', 'ESG_Rating']]\n"
   ]
  },
  {
   "cell_type": "code",
   "execution_count": 67,
   "id": "fb66fda1-ff17-4816-ac3c-2c1823099f81",
   "metadata": {},
   "outputs": [
    {
     "data": {
      "image/png": "[encoded data removed]",
      "text/plain": [
       "<Figure size 800x500 with 1 Axes>"
      ]
     },
     "metadata": {},
     "output_type": "display_data"
    }
   ],
   "source": [
    "# Count of each ESG Rating\n",
    "plt.figure(figsize=(8, 5))\n",
    "sns.countplot(data=esg_df, x='ESG_Rating', order=esg_df['ESG_Rating'].value_counts().index, palette='Set2')\n",
    "plt.title('ESG Rating Distribution')\n",
    "plt.xlabel('ESG Rating')\n",
    "plt.ylabel('Count')\n",
    "plt.show()"
   ]
  },
  {
   "cell_type": "code",
   "execution_count": null,
   "id": "97a1c9f1-2f83-42af-8154-f60c587dd134",
   "metadata": {},
   "outputs": [],
   "source": []
  },
  {
   "cell_type": "code",
   "execution_count": null,
   "id": "5669db60-9338-4edc-9ac9-558aec5c9bae",
   "metadata": {},
   "outputs": [],
   "source": []
  },
  {
   "cell_type": "code",
   "execution_count": null,
   "id": "9b3abd39-3b1e-4908-8aa7-6be6b7bc1aad",
   "metadata": {},
   "outputs": [],
   "source": []
  },
  {
   "cell_type": "code",
   "execution_count": null,
   "id": "bdf2ea5d-4c55-4980-9b67-014b3f3008f2",
   "metadata": {},
   "outputs": [],
   "source": []
  },
  {
   "cell_type": "code",
   "execution_count": null,
   "id": "218e8a53-2145-4b71-bf54-08ac4c051c70",
   "metadata": {},
   "outputs": [],
   "source": []
  },
  {
   "cell_type": "code",
   "execution_count": null,
   "id": "88552fbb-1c52-49ed-bd21-1936cba919a1",
   "metadata": {},
   "outputs": [],
   "source": []
  }
 ],
 "metadata": {
  "kernelspec": {
   "display_name": "Python 3 (ipykernel)",
   "language": "python",
   "name": "python3"
  },
  "language_info": {
   "codemirror_mode": {
    "name": "ipython",
    "version": 3
   },
   "file_extension": ".py",
   "mimetype": "text/x-python",
   "name": "python",
   "nbconvert_exporter": "python",
   "pygments_lexer": "ipython3",
   "version": "3.12.7"
  }
 },
 "nbformat": 4,
 "nbformat_minor": 5
}
